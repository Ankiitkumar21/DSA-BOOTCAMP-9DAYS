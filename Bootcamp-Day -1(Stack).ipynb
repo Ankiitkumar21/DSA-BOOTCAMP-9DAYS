{
 "cells": [
  {
   "cell_type": "code",
   "execution_count": null,
   "id": "268b289d",
   "metadata": {},
   "outputs": [
    {
     "name": "stdout",
     "output_type": "stream",
     "text": [
      "\n",
      "\n",
      "* MENU *\n",
      "1. Push\n",
      "2. Pop\n",
      "3. Display\n",
      "4. Exit\n"
     ]
    }
   ],
   "source": [
    "# Define stack size\n",
    "SIZE = 10\n",
    "\n",
    "# Initialize stack and top pointer\n",
    "stack = []\n",
    "top = -1\n",
    "\n",
    "# Push function to insert element in stack\n",
    "def push(value):\n",
    "    global top\n",
    "    if top == SIZE - 1:\n",
    "        print(\"\\nStack is Full!!! Overflow!!!\")\n",
    "    else:\n",
    "        top += 1\n",
    "        stack.append(value)\n",
    "        print(\"\\nInsertion success!!!\")\n",
    "\n",
    "# Pop function to remove element from stack\n",
    "def pop():\n",
    "    global top\n",
    "    if top == -1:\n",
    "        print(\"\\nStack is Empty!!! Underflow!!!\")\n",
    "    else:\n",
    "        print(f\"\\nDeleted : {stack[top]}\")\n",
    "        stack.pop()\n",
    "        top -= 1\n",
    "\n",
    "# Display function to print stack elements\n",
    "def display():\n",
    "    if top == -1:\n",
    "        print(\"\\nStack is Empty!!!\")\n",
    "    else:\n",
    "        print(\"\\nStack elements are:\")\n",
    "        for i in range(top, -1, -1):\n",
    "            print(stack[i])\n",
    "\n",
    "# Main function with menu\n",
    "def main():\n",
    "    global top\n",
    "    while True:\n",
    "        print(\"\\n\\n* MENU *\")\n",
    "        print(\"1. Push\")\n",
    "        print(\"2. Pop\")\n",
    "        print(\"3. Display\")\n",
    "        print(\"4. Exit\")\n",
    "        choice = int(input(\"Enter your choice: \"))\n",
    "        \n",
    "        if choice == 1:\n",
    "            value = int(input(\"Enter the value to be insert: \"))\n",
    "            push(value)\n",
    "        elif choice == 2:\n",
    "            pop()\n",
    "        elif choice == 3:\n",
    "            display()\n",
    "        elif choice == 4:\n",
    "            print(\"Exiting...\")\n",
    "            break\n",
    "        else:\n",
    "            print(\"\\nWrong selection!!! Try again!!!\")\n",
    "\n",
    "# Run the main function\n",
    "if __name__ == \"__main__\":\n",
    "    main()\n"
   ]
  },
  {
   "cell_type": "code",
   "execution_count": null,
   "id": "8277f073",
   "metadata": {},
   "outputs": [],
   "source": []
  }
 ],
 "metadata": {
  "kernelspec": {
   "display_name": "Python 3 (ipykernel)",
   "language": "python",
   "name": "python3"
  },
  "language_info": {
   "codemirror_mode": {
    "name": "ipython",
    "version": 3
   },
   "file_extension": ".py",
   "mimetype": "text/x-python",
   "name": "python",
   "nbconvert_exporter": "python",
   "pygments_lexer": "ipython3",
   "version": "3.9.12"
  }
 },
 "nbformat": 4,
 "nbformat_minor": 5
}
